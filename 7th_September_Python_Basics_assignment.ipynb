{
 "cells": [
  {
   "cell_type": "markdown",
   "id": "3a86c208-d883-4772-a573-a906e5dbf14a",
   "metadata": {},
   "source": [
    "# TOPIC: Python Basics Variables"
   ]
  },
  {
   "cell_type": "code",
   "execution_count": null,
   "id": "6f17271e-7f48-4578-86a6-3b4e3edddb11",
   "metadata": {},
   "outputs": [],
   "source": [
    "Declare two variables, `x` and `y`, and assign them integer values. Swap the\n",
    "values of these variables without using any temporary variable."
   ]
  },
  {
   "cell_type": "code",
   "execution_count": 30,
   "id": "c435c675-7c98-411d-b7ab-c9a32db046ec",
   "metadata": {},
   "outputs": [
    {
     "data": {
      "text/plain": [
       "(20, 10)"
      ]
     },
     "execution_count": 30,
     "metadata": {},
     "output_type": "execute_result"
    }
   ],
   "source": [
    "x=10\n",
    "y=20\n",
    "x = x+y\n",
    "y = x - y\n",
    "x = x - y\n",
    "x,y"
   ]
  },
  {
   "cell_type": "markdown",
   "id": "a446d51c-be35-4e6e-a01f-0987bfada837",
   "metadata": {},
   "source": [
    "Create a program that calculates the area of a rectangle. Take the length and\n",
    "width as inputs from the user and store them in variables. Calculate and\n",
    "display the area."
   ]
  },
  {
   "cell_type": "code",
   "execution_count": 31,
   "id": "d337ffa8-1ec3-4fe8-b466-dfa09c129f5c",
   "metadata": {},
   "outputs": [
    {
     "name": "stdin",
     "output_type": "stream",
     "text": [
      "Enter lenght of rectangle 10\n",
      "Enter breadth of rectangle 10\n"
     ]
    },
    {
     "data": {
      "text/plain": [
       "100.0"
      ]
     },
     "execution_count": 31,
     "metadata": {},
     "output_type": "execute_result"
    }
   ],
   "source": [
    "length = float(input(\"Enter lenght of rectangle\"))\n",
    "breadth = float(input(\"Enter breadth of rectangle\"))\n",
    "area = length * breadth\n",
    "area"
   ]
  },
  {
   "cell_type": "markdown",
   "id": "d9e934d4-1bdd-4c58-b0a4-9c124fffd549",
   "metadata": {},
   "source": [
    "Write a Python program that converts temperatures from Celsius to\n",
    "Fahrenheit. Take the temperature in Celsius as input, store it in a variable,\n",
    "convert it to Fahrenheit, and display the result."
   ]
  },
  {
   "cell_type": "code",
   "execution_count": 32,
   "id": "1e064322-e798-4ace-84b5-998dc80be6ce",
   "metadata": {},
   "outputs": [
    {
     "name": "stdin",
     "output_type": "stream",
     "text": [
      "Enter temperature in celcius 32\n"
     ]
    },
    {
     "data": {
      "text/plain": [
       "89.6"
      ]
     },
     "execution_count": 32,
     "metadata": {},
     "output_type": "execute_result"
    }
   ],
   "source": [
    "celcius = float(input(\"Enter temperature in celcius\"))\n",
    "farenheit = (celcius * 9/5) + 32\n",
    "farenheit"
   ]
  },
  {
   "cell_type": "markdown",
   "id": "0d04d834-86d7-41c3-ad50-d40449088349",
   "metadata": {},
   "source": [
    "# TOPIC: String Based Questions"
   ]
  },
  {
   "cell_type": "code",
   "execution_count": null,
   "id": "a340b839-6721-4f56-a9fd-e844efb7fdb3",
   "metadata": {},
   "outputs": [],
   "source": []
  },
  {
   "cell_type": "markdown",
   "id": "6c8aad18-7016-4059-9016-5fa0faa63f90",
   "metadata": {},
   "source": [
    "Write a Python program that takes a string as input and prints the length of\n",
    "the string."
   ]
  },
  {
   "cell_type": "code",
   "execution_count": 33,
   "id": "98a99d08-ff0c-4cd9-a201-b066bd501f13",
   "metadata": {},
   "outputs": [
    {
     "name": "stdin",
     "output_type": "stream",
     "text": [
      "Enter a string fdsfdsfsd\n"
     ]
    },
    {
     "data": {
      "text/plain": [
       "9"
      ]
     },
     "execution_count": 33,
     "metadata": {},
     "output_type": "execute_result"
    }
   ],
   "source": [
    "str = input(\"Enter a string\")\n",
    "length = len(str)\n",
    "length"
   ]
  },
  {
   "cell_type": "markdown",
   "id": "6e4621c4-9d4b-4149-97fd-1aa3a7f55aea",
   "metadata": {},
   "source": [
    "Create a program that takes a sentence from the user and counts the number\n",
    "of vowels (a, e, i, o, u) in the string."
   ]
  },
  {
   "cell_type": "code",
   "execution_count": 34,
   "id": "66fb4311-e1a4-47c5-9ce3-05bf5fb9f3d6",
   "metadata": {},
   "outputs": [
    {
     "name": "stdin",
     "output_type": "stream",
     "text": [
      "Enter a sentence fsdfdsfff\n"
     ]
    },
    {
     "data": {
      "text/plain": [
       "0"
      ]
     },
     "execution_count": 34,
     "metadata": {},
     "output_type": "execute_result"
    }
   ],
   "source": [
    "sentence = input(\"Enter a sentence\")\n",
    "vowels=\"aeiouAEIOU\"\n",
    "vowel_count = 0\n",
    "for char in sentence:\n",
    "    if char in vowels:\n",
    "        vowel_count += 1\n",
    "vowel_count"
   ]
  },
  {
   "cell_type": "markdown",
   "id": "6ba0288f-a0de-4f7c-a42a-e76e7fb285d7",
   "metadata": {},
   "source": [
    "Given a string, reverse the order of characters using string slicing and print\n",
    "the reversed string."
   ]
  },
  {
   "cell_type": "code",
   "execution_count": null,
   "id": "acf1eaa4-e49f-4a25-baa1-058c32fe824f",
   "metadata": {},
   "outputs": [],
   "source": [
    "str = \"Sudheer\"\n",
    "print(str[::-1])"
   ]
  },
  {
   "cell_type": "markdown",
   "id": "53125b3d-df26-4c8d-8036-cdf93af21d66",
   "metadata": {},
   "source": [
    "Write a program that takes a string as input and checks if it is a palindrome\n",
    "(reads the same forwards and backwards)."
   ]
  },
  {
   "cell_type": "markdown",
   "id": "c6ef66ad-4cca-482c-ae4b-ec2634c61596",
   "metadata": {},
   "source": [
    "Palindome - METHOD1\n",
    "* Easiest and shortest logic"
   ]
  },
  {
   "cell_type": "code",
   "execution_count": 36,
   "id": "8c59c9fb-3f17-4074-95ba-81a3ce44cb8b",
   "metadata": {},
   "outputs": [
    {
     "name": "stdin",
     "output_type": "stream",
     "text": [
      "Enter a word to check for Palindrome. MaaM\n"
     ]
    },
    {
     "name": "stdout",
     "output_type": "stream",
     "text": [
      "MaaM\n",
      "MaaM  is a Palindrome\n"
     ]
    }
   ],
   "source": [
    "word = input(\"Enter a word to check for Palindrome.\")\n",
    "print(word)\n",
    "if (word == word[::-1]):\n",
    "    print(word, \" is a Palindrome\")\n",
    "else:\n",
    "    print(word, \" is NOT a Palindrome\")"
   ]
  },
  {
   "cell_type": "markdown",
   "id": "600cc57a-9d9b-40e6-9477-7e916f899af5",
   "metadata": {},
   "source": [
    "Palindome - METHOD2\n",
    "* Sligtly complex, but better and faster algorithm"
   ]
  },
  {
   "cell_type": "code",
   "execution_count": 40,
   "id": "06bb3a0a-05a9-405c-8b8b-4154574d664b",
   "metadata": {},
   "outputs": [
    {
     "name": "stdin",
     "output_type": "stream",
     "text": [
      "Enter a word to check for Palindrome. MaaM\n"
     ]
    },
    {
     "name": "stdout",
     "output_type": "stream",
     "text": [
      "count: 2\n",
      "MaaM  - Is a Plaindome\n"
     ]
    }
   ],
   "source": [
    "word = input(\"Enter a word to check for Palindrome.\")\n",
    "count = int(len(word) / 2)\n",
    "print(\"count:\" , count)\n",
    "startIndex = 0\n",
    "endIndex = -1\n",
    "isPalindrome = True\n",
    "for i in range(count):\n",
    "    if (word[startIndex] != word[endIndex]):\n",
    "        isPalindrome = False;\n",
    "        break\n",
    "    else:\n",
    "        startIndex = startIndex + 1\n",
    "        endIndex = endIndex - 1\n",
    "if (isPalindrome):\n",
    "    print(word, \" - Is a Plaindome\")\n",
    "else:\n",
    "    print(word, \" - is NOT a palindrome\")\n"
   ]
  },
  {
   "cell_type": "code",
   "execution_count": null,
   "id": "2150969b-bb30-4188-896c-f458fed39111",
   "metadata": {},
   "outputs": [],
   "source": []
  },
  {
   "cell_type": "code",
   "execution_count": null,
   "id": "ea0cf707-a35d-47a3-a06c-14da582ede11",
   "metadata": {},
   "outputs": [],
   "source": []
  },
  {
   "cell_type": "code",
   "execution_count": null,
   "id": "49513ad4-e8e6-4dc6-907c-0f3c436b649d",
   "metadata": {},
   "outputs": [],
   "source": []
  },
  {
   "cell_type": "code",
   "execution_count": null,
   "id": "e2b81249-e12a-4fed-ac2b-0c9fc9b30451",
   "metadata": {},
   "outputs": [],
   "source": []
  },
  {
   "cell_type": "code",
   "execution_count": null,
   "id": "5116e564-5026-4ec8-805e-00cfa7ce62d4",
   "metadata": {},
   "outputs": [],
   "source": []
  },
  {
   "cell_type": "code",
   "execution_count": null,
   "id": "d1a676c6-c44b-4f33-afdb-03cc21cfef82",
   "metadata": {},
   "outputs": [],
   "source": []
  },
  {
   "cell_type": "code",
   "execution_count": null,
   "id": "e8a043cb-1018-4277-93ac-bac44dcf295e",
   "metadata": {},
   "outputs": [],
   "source": []
  },
  {
   "cell_type": "code",
   "execution_count": null,
   "id": "0554110d-aa6a-463a-9aac-060389e3fc87",
   "metadata": {},
   "outputs": [],
   "source": []
  },
  {
   "cell_type": "code",
   "execution_count": null,
   "id": "4a2a3cb4-06cc-42e2-a165-692735c2f050",
   "metadata": {},
   "outputs": [],
   "source": []
  }
 ],
 "metadata": {
  "kernelspec": {
   "display_name": "Python 3 (ipykernel)",
   "language": "python",
   "name": "python3"
  },
  "language_info": {
   "codemirror_mode": {
    "name": "ipython",
    "version": 3
   },
   "file_extension": ".py",
   "mimetype": "text/x-python",
   "name": "python",
   "nbconvert_exporter": "python",
   "pygments_lexer": "ipython3",
   "version": "3.10.8"
  }
 },
 "nbformat": 4,
 "nbformat_minor": 5
}
